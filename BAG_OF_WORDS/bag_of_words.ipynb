{
 "cells": [
  {
   "cell_type": "markdown",
   "metadata": {},
   "source": [
    "we are going to discuss a Natural Language Processing technique of text modeling known as Bag of Words model. Whenever we apply any algorithm in NLP, it works on numbers. We cannot directly feed our text into that algorithm. Hence, Bag of Words model is used to preprocess the text by converting it into a bag of words, which keeps a count of the total occurrences of most frequently used words.\n",
    "\n",
    "We can use count vectorize, for this purpose. "
   ]
  },
  {
   "cell_type": "code",
   "execution_count": 19,
   "metadata": {},
   "outputs": [
    {
     "name": "stdout",
     "output_type": "stream",
     "text": [
      "['indian histori nation come across situat time ascend econom trajectori continu rise foreign exchang reserv increas domest invest investor confid rise steadili global success indian manageri entrepreneuri talent global recognit technolog compet energi million youth umbil connect million peopl indian origin variou part planet interest shown mani develop countri invest engin scientist set new research develop centr india', 'distinct public privat sector illusori primaci one vanish', 'also trend mani young peopl opt creat new enterpris instead mere employe']\n",
      "(3, 68)\n"
     ]
    },
    {
     "data": {
      "text/plain": [
       "dict_keys(['indian', 'histori', 'nation', 'come', 'across', 'situat', 'time', 'ascend', 'econom', 'trajectori', 'continu', 'rise', 'foreign', 'exchang', 'reserv', 'increas', 'domest', 'invest', 'investor', 'confid', 'steadili', 'global', 'success', 'manageri', 'entrepreneuri', 'talent', 'recognit', 'technolog', 'compet', 'energi', 'million', 'youth', 'umbil', 'connect', 'peopl', 'origin', 'variou', 'part', 'planet', 'interest', 'shown', 'mani', 'develop', 'countri', 'engin', 'scientist', 'set', 'new', 'research', 'centr', 'india', 'distinct', 'public', 'privat', 'sector', 'illusori', 'primaci', 'one', 'vanish', 'also', 'trend', 'young', 'opt', 'creat', 'enterpris', 'instead', 'mere', 'employe'])"
      ]
     },
     "execution_count": 19,
     "metadata": {},
     "output_type": "execute_result"
    }
   ],
   "source": [
    "import re\n",
    "text = \"\"\"In Indian history, our nation has come across a situation, all at a time, \n",
    "an ascending economic trajectory, continuously rising foreign exchange reserves, increasing domestic \n",
    "investment with investors’ confidence rising steadily, global successes of Indian managerial and entrepreneurial talents, \n",
    "global recognition of technological competence, energy of 540 million youth, umbilical connectivities of more than 25 million \n",
    "people of Indian origin in various parts of the planet and the interest shown by many developed countries to invest in our\n",
    "engineers and scientists through setting up of new Research and Development Centres in India.\n",
    "\n",
    "The distinction between the public and the private sectors and the illusory primacy of one over the other \n",
    "is vanishing. Also, there is a trend that many young people are opting for creating new enterprises instead of \n",
    "being mere employees.\"\"\"\n",
    "\n",
    "from nltk.corpus import stopwords\n",
    "from nltk.tokenize import sent_tokenize, word_tokenize\n",
    "from nltk.stem.porter import PorterStemmer\n",
    "from nltk.stem import WordNetLemmatizer\n",
    "\n",
    "sents = sent_tokenize(text)\n",
    "ps = PorterStemmer()\n",
    "\n",
    "corpus = []\n",
    "\n",
    "for i in range(len(sents)):\n",
    "    review = re.sub('[^a-zA-Z]',' ',sents[i])\n",
    "    review = review.lower()\n",
    "    review = word_tokenize(review)\n",
    "    review = [ps.stem(word) for word in review if not word in set(stopwords.words('english'))]\n",
    "    review = ' '.join(review)\n",
    "    corpus.append(review)\n",
    "\n",
    "print(corpus)\n",
    "\n",
    "from sklearn.feature_extraction.text import CountVectorizer\n",
    "cv = CountVectorizer(max_features=1500)\n",
    "x = cv.fit_transform(corpus)\n",
    "print(x.shape)\n",
    "cv.vocabulary_.keys()\n"
   ]
  }
 ],
 "metadata": {
  "kernelspec": {
   "display_name": "Python 3",
   "language": "python",
   "name": "python3"
  },
  "language_info": {
   "codemirror_mode": {
    "name": "ipython",
    "version": 3
   },
   "file_extension": ".py",
   "mimetype": "text/x-python",
   "name": "python",
   "nbconvert_exporter": "python",
   "pygments_lexer": "ipython3",
   "version": "3.6.11"
  }
 },
 "nbformat": 4,
 "nbformat_minor": 4
}
