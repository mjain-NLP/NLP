{
 "cells": [
  {
   "cell_type": "markdown",
   "metadata": {},
   "source": [
    "Stemmimg and lemmatization\n",
    "\n",
    "Stemming algorithms work by cutting off the end or the beginning of the word, taking into account a list of common prefixes and suffixes that can be found in an inflected word. This indiscriminate cutting can be successful in some occasions, but not always, and that is why we affirm that this approach presents some limitations. Below we illustrate the method with examples in both English and Spanish.\n",
    "\n",
    "stemming_v2.png\n",
    "\n",
    "Lemmatization, on the other hand, takes into consideration the morphological analysis of the words. To do so, it is necessary to have detailed dictionaries which the algorithm can look through to link the form back to its lemma. Again, you can see how it works with the same example words.\n",
    "\n",
    "lemma_v2.png\n",
    "\n",
    "Another important difference to highlight is that a lemma is the base form of all its inflectional forms, whereas a stem isn’t. This is why regular dictionaries are lists of lemmas, not stems. \n",
    "\n",
    "How do they work?\n",
    "\n",
    "Stemming: there are different algorithms that can be used in the stemming process, but the most common in English is Porter stemmer. The rules contained in this algorithm are divided in five different phases numbered from 1 to 5. The purpose of these rules is to reduce the words to the root.\n",
    "Lemmatization: the key to this methodology is linguistics. To extract the proper lemma, it is necessary to look at the morphological analysis of each word. This requires having dictionaries for every language to provide that kind of analysis.\n",
    "Which one is best: lemmatization or stemming?\n",
    "\n",
    "As a conclusion, we can say developing a stemmer is far simpler than building a lemmatizer. In the latter, deep linguistics knowledge is required to create the dictionaries that allow the algorithm to look for the proper form of the word. Once this is done, the noise will be reduced and the results provided on the information retrieval process will be more accurate."
   ]
  },
  {
   "cell_type": "code",
   "execution_count": 5,
   "metadata": {},
   "outputs": [
    {
     "name": "stdout",
     "output_type": "stream",
     "text": [
      "comput\n",
      "comput\n",
      "comput\n",
      "comput\n"
     ]
    }
   ],
   "source": [
    "#stemming\n",
    "#There are two types of stemmers in NLTK: Porter Stemmer and Snowball stemmers. \n",
    "#Both of them have been implemented using different algorithms.\n",
    "\n",
    "# we cannot perform stemming with spacy\n",
    "\n",
    "import nltk\n",
    "from nltk.stem import PorterStemmer\n",
    "\n",
    "stemmer = PorterStemmer()\n",
    "#tokens = ['final','finally','fine','finalle']\n",
    "tokens = ['compute', 'computer', 'computed', 'computing']\n",
    "\n",
    "\n",
    "for token in tokens:\n",
    "    print(stemmer.stem(token))"
   ]
  },
  {
   "cell_type": "code",
   "execution_count": 6,
   "metadata": {},
   "outputs": [
    {
     "name": "stdout",
     "output_type": "stream",
     "text": [
      "comput\n",
      "comput\n",
      "comput\n",
      "comput\n"
     ]
    }
   ],
   "source": [
    "#Snowball stemmer is a slightly improved version of the Porter stemmer and is usually preferred over the latter. \n",
    "#Let's see snowball stemmer in action:\n",
    "\n",
    "from nltk.stem.snowball import SnowballStemmer\n",
    "obj = SnowballStemmer(language='english')\n",
    "\n",
    "for token in tokens:\n",
    "    print(obj.stem(token))"
   ]
  },
  {
   "cell_type": "code",
   "execution_count": 20,
   "metadata": {},
   "outputs": [
    {
     "name": "stdout",
     "output_type": "stream",
     "text": [
      "a\n",
      "letter\n",
      "have\n",
      "be\n",
      "write\n",
      ",\n",
      "ask\n",
      "-PRON-\n",
      "to\n",
      "be\n",
      "release\n"
     ]
    }
   ],
   "source": [
    "#lemmatization\n",
    "import spacy\n",
    "from spacy.lang.en import English\n",
    "\n",
    "nlp = spacy.load('en_core_web_sm')\n",
    "\n",
    "my_data = u\"\"\"\n",
    "written computed If finally getting up early doesn’t come naturally, there are some strategies you can try. \n",
    "Early exercise and exposing yourself to light as soon as possible can help stimulate metabolism and body temperature, which gets you going more quickly. Yet the early alarm clock may not work for everyone – it turns out there are plenty of caveats around trying to become a morning person if it’s not an easy fit. Is getting up early for everyone? No. Whether or not waking up early actually makes you more productive could be in your genes. There’s been lots of research about how some people are biologically more likely to feel more alert in the morning, while others are at their best at night. You might be more alert and have better cognitive ability in the afternoon, for instance. In fact, a recent study published in the journal Nature Communications provided further evidence that this is the case. Looking at data from over 700,000 people, researchers found over 350 genetic factors that could influence whether people feel more naturally energised either in the morning or in the evening. The large sample size makes the study the biggest of its kind so far, though further research is needed to confirm the results. \n",
    "So, if you don’t naturally feel alert in the morning but decide to wake up early anyway, you might be sabotaging your actual peak performance times.  \n",
    "\"\"\"\n",
    "\n",
    "doc = nlp(u'A letter has been written, asking him to be released')\n",
    "\n",
    "for token in doc:\n",
    "    print(token.lemma_)\n"
   ]
  },
  {
   "cell_type": "code",
   "execution_count": 11,
   "metadata": {},
   "outputs": [
    {
     "name": "stdout",
     "output_type": "stream",
     "text": [
      "\n",
      "If getting up early doesn’t come naturally, there are some strategies you can try.\n",
      "['if', 'get', 'earli', '’', 'come', 'natur', ',', 'strategi', 'tri', '.']\n",
      "\n",
      " --------------------------------------------------------- \n",
      "\n",
      "Early exercise and exposing yourself to light as soon as possible can help stimulate metabolism and body temperature, which gets you going more quickly.\n",
      "['earli', 'exercis', 'expos', 'light', 'soon', 'possibl', 'help', 'stimul', 'metabol', 'bodi', 'temperatur', ',', 'get', 'go', 'quick', '.']\n",
      "\n",
      " --------------------------------------------------------- \n",
      "\n",
      "Yet the early alarm clock may not work for everyone – it turns out there are plenty of caveats around trying to become a morning person if it’s not an easy fit.\n",
      "['yet', 'earli', 'alarm', 'clock', 'may', 'work', 'everyon', '–', 'turn', 'plenti', 'caveat', 'around', 'tri', 'becom', 'morn', 'person', '’', 'easi', 'fit', '.']\n",
      "\n",
      " --------------------------------------------------------- \n",
      "\n",
      "Is getting up early for everyone?\n",
      "['is', 'get', 'earli', 'everyon', '?']\n",
      "\n",
      " --------------------------------------------------------- \n",
      "\n",
      "No.\n",
      "['no', '.']\n",
      "\n",
      " --------------------------------------------------------- \n",
      "\n",
      "Whether or not waking up early actually makes you more productive could be in your genes.\n",
      "['whether', 'wake', 'earli', 'actual', 'make', 'product', 'could', 'gene', '.']\n",
      "\n",
      " --------------------------------------------------------- \n",
      "\n",
      "There’s been lots of research about how some people are biologically more likely to feel more alert in the morning, while others are at their best at night.\n",
      "['there', '’', 'lot', 'research', 'peopl', 'biolog', 'like', 'feel', 'alert', 'morn', ',', 'other', 'best', 'night', '.']\n",
      "\n",
      " --------------------------------------------------------- \n",
      "\n",
      "You might be more alert and have better cognitive ability in the afternoon, for instance.\n",
      "['you', 'might', 'alert', 'better', 'cognit', 'abil', 'afternoon', ',', 'instanc', '.']\n",
      "\n",
      " --------------------------------------------------------- \n",
      "\n",
      "In fact, a recent study published in the journal Nature Communications provided further evidence that this is the case.\n",
      "['in', 'fact', ',', 'recent', 'studi', 'publish', 'journal', 'natur', 'communic', 'provid', 'evid', 'case', '.']\n",
      "\n",
      " --------------------------------------------------------- \n",
      "\n",
      "Looking at data from over 700,000 people, researchers found over 350 genetic factors that could influence whether people feel more naturally energised either in the morning or in the evening.\n",
      "['look', 'data', '700,000', 'peopl', ',', 'research', 'found', '350', 'genet', 'factor', 'could', 'influenc', 'whether', 'peopl', 'feel', 'natur', 'energis', 'either', 'morn', 'even', '.']\n",
      "\n",
      " --------------------------------------------------------- \n",
      "\n",
      "The large sample size makes the study the biggest of its kind so far, though further research is needed to confirm the results.\n",
      "['the', 'larg', 'sampl', 'size', 'make', 'studi', 'biggest', 'kind', 'far', ',', 'though', 'research', 'need', 'confirm', 'result', '.']\n",
      "\n",
      " --------------------------------------------------------- \n",
      "\n",
      "So, if you don’t naturally feel alert in the morning but decide to wake up early anyway, you might be sabotaging your actual peak performance times.\n",
      "['so', ',', '’', 'natur', 'feel', 'alert', 'morn', 'decid', 'wake', 'earli', 'anyway', ',', 'might', 'sabotag', 'actual', 'peak', 'perform', 'time', '.']\n",
      "\n",
      " --------------------------------------------------------- \n",
      "\n"
     ]
    }
   ],
   "source": [
    "import nltk\n",
    "from nltk.tokenize import sent_tokenize, word_tokenize\n",
    "from nltk.stem.snowball import SnowballStemmer\n",
    "from nltk.corpus import stopwords\n",
    "\n",
    "stemmer = SnowballStemmer(language='english')\n",
    "\n",
    "my_data = \"\"\"\n",
    "If getting up early doesn’t come naturally, there are some strategies you can try. \n",
    "Early exercise and exposing yourself to light as soon as possible can help stimulate metabolism and body temperature, which gets you going more quickly. Yet the early alarm clock may not work for everyone – it turns out there are plenty of caveats around trying to become a morning person if it’s not an easy fit. Is getting up early for everyone? No. Whether or not waking up early actually makes you more productive could be in your genes. There’s been lots of research about how some people are biologically more likely to feel more alert in the morning, while others are at their best at night. You might be more alert and have better cognitive ability in the afternoon, for instance. In fact, a recent study published in the journal Nature Communications provided further evidence that this is the case. Looking at data from over 700,000 people, researchers found over 350 genetic factors that could influence whether people feel more naturally energised either in the morning or in the evening. The large sample size makes the study the biggest of its kind so far, though further research is needed to confirm the results. \n",
    "So, if you don’t naturally feel alert in the morning but decide to wake up early anyway, you might be sabotaging your actual peak performance times.  \n",
    "\"\"\"\n",
    "\n",
    "my_sentences = sent_tokenize(my_data)\n",
    "\n",
    "for sent in my_sentences:\n",
    "    print(sent)\n",
    "    words = word_tokenize(sent)\n",
    "    stems = [ stemmer.stem(word) for word in words if not word in set(stopwords.words('english'))]\n",
    "    print(stems)\n",
    "    print(\"\\n\",\"---------------------------------------------------------\",\"\\n\")"
   ]
  }
 ],
 "metadata": {
  "kernelspec": {
   "display_name": "Python 3",
   "language": "python",
   "name": "python3"
  },
  "language_info": {
   "codemirror_mode": {
    "name": "ipython",
    "version": 3
   },
   "file_extension": ".py",
   "mimetype": "text/x-python",
   "name": "python",
   "nbconvert_exporter": "python",
   "pygments_lexer": "ipython3",
   "version": "3.6.11"
  }
 },
 "nbformat": 4,
 "nbformat_minor": 4
}
